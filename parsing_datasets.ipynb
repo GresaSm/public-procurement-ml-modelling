{
 "cells": [
  {
   "cell_type": "markdown",
   "metadata": {},
   "source": [
    "# Parsing EXIOBASE dataset files for the years 2010-2019\n",
    "\n",
    "* To handle, aggregate and analyse this data, PYMRIO documentation (Stadler 2021) was used. \n",
    "* All EXIOBASE data files can be accessed and downloaded here: https://zenodo.org/records/5589597"
   ]
  },
  {
   "cell_type": "markdown",
   "metadata": {},
   "source": [
    "## Importing all needed libraries"
   ]
  },
  {
   "cell_type": "code",
   "execution_count": 1,
   "metadata": {},
   "outputs": [],
   "source": [
    "import pandas as pd\n",
    "import numpy as np\n",
    "import matplotlib.pyplot as plt\n",
    "import seaborn as sns\n",
    "import pymrio"
   ]
  },
  {
   "cell_type": "markdown",
   "metadata": {},
   "source": [
    "# Read and download 2019 data"
   ]
  },
  {
   "cell_type": "code",
   "execution_count": 21,
   "metadata": {},
   "outputs": [
    {
     "name": "stderr",
     "output_type": "stream",
     "text": [
      "/opt/homebrew/lib/python3.10/site-packages/pymrio/core/mriosystem.py:890: FutureWarning: DataFrame.groupby with axis=1 is deprecated. Do `frame.T.groupby(...)` without axis instead.\n",
      "  Y_agg = Y.groupby(level=\"region\", axis=1, sort=False).sum()\n",
      "/opt/homebrew/lib/python3.10/site-packages/pymrio/core/mriosystem.py:935: FutureWarning: DataFrame.groupby with axis=1 is deprecated. Do `frame.T.groupby(...)` without axis instead.\n",
      "  F_Y_agg = self.F_Y.groupby(level=\"region\", axis=1, sort=False).sum()\n",
      "/opt/homebrew/lib/python3.10/site-packages/pymrio/core/mriosystem.py:890: FutureWarning: DataFrame.groupby with axis=1 is deprecated. Do `frame.T.groupby(...)` without axis instead.\n",
      "  Y_agg = Y.groupby(level=\"region\", axis=1, sort=False).sum()\n",
      "/opt/homebrew/lib/python3.10/site-packages/pymrio/core/mriosystem.py:935: FutureWarning: DataFrame.groupby with axis=1 is deprecated. Do `frame.T.groupby(...)` without axis instead.\n",
      "  F_Y_agg = self.F_Y.groupby(level=\"region\", axis=1, sort=False).sum()\n"
     ]
    },
    {
     "data": {
      "text/plain": [
       "<pymrio.core.mriosystem.IOSystem at 0x3257388b0>"
      ]
     },
     "execution_count": 21,
     "metadata": {},
     "output_type": "execute_result"
    }
   ],
   "source": [
    "# Using pymrio functions to parse the data\n",
    "exio_19 = pymrio.parse_exiobase3('/Users/gresasmolica/Extracted_Data/IOT_2019_pxp')\n",
    "exio_19.calc_all()"
   ]
  },
  {
   "cell_type": "code",
   "execution_count": 22,
   "metadata": {},
   "outputs": [
    {
     "name": "stderr",
     "output_type": "stream",
     "text": [
      "/var/folders/38/sb94bl795bv7klhlb8l7pj_00000gn/T/ipykernel_94251/2067831034.py:14: PerformanceWarning: dropping on a non-lexsorted multi-index without a level parameter may impact performance.\n",
      "  pba_without_de = exio_19.impacts.D_pba.drop('DE', axis=1, inplace=True)\n",
      "/var/folders/38/sb94bl795bv7klhlb8l7pj_00000gn/T/ipykernel_94251/2067831034.py:43: PerformanceWarning: dropping on a non-lexsorted multi-index without a level parameter may impact performance.\n",
      "  exio_19.satellite.D_pba.drop('DE', axis=1, inplace=True)\n"
     ]
    },
    {
     "data": {
      "text/plain": [
       "(2165, 1241)"
      ]
     },
     "execution_count": 22,
     "metadata": {},
     "output_type": "execute_result"
    }
   ],
   "source": [
    "# the following steps helps to extract the data for the case study - Germany and the information only for final government expenditure\n",
    "\n",
    "gov_demand = exio_19.Y.DE['Final consumption expenditure by government']\n",
    "gov_demand = gov_demand.to_frame().reset_index()\n",
    "gov_demand = gov_demand.rename(columns={'Final consumption expenditure by government': 'gov_demand'})\n",
    "\n",
    "# drop all 0 values\n",
    "gov_demand = gov_demand[gov_demand.gov_demand != 0]\n",
    "\n",
    "# resetting the index. As we are working with multi-index tables, this step is necessary to make the analysis easier\n",
    "de_cba = exio_19.impacts.D_cba.DE.T.reset_index().rename(columns={'index': 'category'})\n",
    "de_cba.insert(0, 'region', 'DE')\n",
    "\n",
    "# extracting production based accounts information\n",
    "pba_without_de = exio_19.impacts.D_pba.drop('DE', axis=1, inplace=True)\n",
    "pba_without_de = exio_19.impacts.D_pba.T\n",
    "pba_without_de = pba_without_de.reset_index().rename(columns={'index': 'sector'})\n",
    "\n",
    "# merging the two tables: consumption based accounts and production based accounts\n",
    "cba_pba = pd.concat([pba_without_de, de_cba], ignore_index=True)\n",
    "\n",
    "gov_demand_pba_cba = pd.merge(cba_pba, gov_demand, on=['sector', 'region'], how='inner')\n",
    "gov_demand_pba_cba = gov_demand_pba_cba.loc[:, (gov_demand_pba_cba != 0).any(axis=0)]\n",
    "\n",
    "de_gov = exio_19.Y.DE['Final consumption expenditure by government']\n",
    "\n",
    "# access ghg emissions on F matrix and multiply by the government expenditure to get the total emissions of government expenditure per product\n",
    "ghg_emissions_de = exio_19.L.dot(exio_19.impacts.F.loc[\"GHG emissions (GWP100) | Problem oriented approach: baseline (CML, 2001) | GWP100 (IPCC, 2007)\"]).mul(de_gov, axis=0)\n",
    "ghg_emissions_de = ghg_emissions_de.to_frame().reset_index()\n",
    "\n",
    "# rename the columns to region, sector and gov_exp_ghg\n",
    "ghg_emissions_de.columns = ['region', 'sector', 'gov_exp_ghg']\n",
    "\n",
    "# drop all the sectors with zero emissions\n",
    "ghg_emissions_de = ghg_emissions_de[ghg_emissions_de['gov_exp_ghg'] != 0]\n",
    "\n",
    "gov_demand_pba_cba_ghg = pd.merge(gov_demand_pba_cba, ghg_emissions_de, on=['sector', 'region'], how='inner')\n",
    "\n",
    "# add the satellite account to the analysis\n",
    "de_cba_satellite = exio_19.satellite.D_cba.DE.T.reset_index().rename(columns={'index': 'category'})\n",
    "de_cba_satellite.insert(0, 'region', 'DE')\n",
    "\n",
    "# dropping the DE column from the satellite account not to have duplicated columns\n",
    "exio_19.satellite.D_pba.drop('DE', axis=1, inplace=True)\n",
    "\n",
    "pba_without_de_satellite = exio_19.satellite.D_pba.T.reset_index().rename(columns={'index': 'category'})\n",
    "\n",
    "# merging the two tables: consumption based accounts and production based accounts: including production in Germany that was then purchased by the government\n",
    "cba_pba_satellite = pd.concat([pba_without_de_satellite, de_cba_satellite], ignore_index=True)\n",
    "\n",
    "# final merge of the tables for 2019\n",
    "de_gov_all_19 = pd.merge(cba_pba_satellite, gov_demand_pba_cba_ghg, on=['sector', 'region'], how='inner') \n",
    "de_gov_all_19.shape"
   ]
  },
  {
   "cell_type": "code",
   "execution_count": 23,
   "metadata": {},
   "outputs": [],
   "source": [
    "# export the data to a csv file\n",
    "de_gov_all_19.to_csv('/Users/gresasmolica/Desktop/Gresa Smolica/Hertie - MDS/Master_thesis/de_gov_all_19.csv', index=False)"
   ]
  },
  {
   "cell_type": "markdown",
   "metadata": {},
   "source": [
    "# Read and download 2018 data"
   ]
  },
  {
   "cell_type": "code",
   "execution_count": 24,
   "metadata": {},
   "outputs": [
    {
     "name": "stderr",
     "output_type": "stream",
     "text": [
      "/opt/homebrew/lib/python3.10/site-packages/pymrio/core/mriosystem.py:890: FutureWarning: DataFrame.groupby with axis=1 is deprecated. Do `frame.T.groupby(...)` without axis instead.\n",
      "  Y_agg = Y.groupby(level=\"region\", axis=1, sort=False).sum()\n",
      "/opt/homebrew/lib/python3.10/site-packages/pymrio/core/mriosystem.py:935: FutureWarning: DataFrame.groupby with axis=1 is deprecated. Do `frame.T.groupby(...)` without axis instead.\n",
      "  F_Y_agg = self.F_Y.groupby(level=\"region\", axis=1, sort=False).sum()\n",
      "/opt/homebrew/lib/python3.10/site-packages/pymrio/core/mriosystem.py:890: FutureWarning: DataFrame.groupby with axis=1 is deprecated. Do `frame.T.groupby(...)` without axis instead.\n",
      "  Y_agg = Y.groupby(level=\"region\", axis=1, sort=False).sum()\n",
      "/opt/homebrew/lib/python3.10/site-packages/pymrio/core/mriosystem.py:935: FutureWarning: DataFrame.groupby with axis=1 is deprecated. Do `frame.T.groupby(...)` without axis instead.\n",
      "  F_Y_agg = self.F_Y.groupby(level=\"region\", axis=1, sort=False).sum()\n"
     ]
    },
    {
     "data": {
      "text/plain": [
       "<pymrio.core.mriosystem.IOSystem at 0x15f639930>"
      ]
     },
     "execution_count": 24,
     "metadata": {},
     "output_type": "execute_result"
    }
   ],
   "source": [
    "# repeat the same steps for the 2018 data\n",
    "exio_18 = pymrio.parse_exiobase3('/Users/gresasmolica/Extracted_Data/IOT_2018_pxp')\n",
    "exio_18.calc_all()"
   ]
  },
  {
   "cell_type": "code",
   "execution_count": 25,
   "metadata": {},
   "outputs": [
    {
     "name": "stderr",
     "output_type": "stream",
     "text": [
      "/var/folders/38/sb94bl795bv7klhlb8l7pj_00000gn/T/ipykernel_94251/3564263434.py:14: PerformanceWarning: dropping on a non-lexsorted multi-index without a level parameter may impact performance.\n",
      "  pba_without_de = exio_18.impacts.D_pba.drop('DE', axis=1, inplace=True)\n",
      "/var/folders/38/sb94bl795bv7klhlb8l7pj_00000gn/T/ipykernel_94251/3564263434.py:43: PerformanceWarning: dropping on a non-lexsorted multi-index without a level parameter may impact performance.\n",
      "  exio_18.satellite.D_pba.drop('DE', axis=1, inplace=True)\n"
     ]
    },
    {
     "data": {
      "text/plain": [
       "(2089, 1241)"
      ]
     },
     "execution_count": 25,
     "metadata": {},
     "output_type": "execute_result"
    }
   ],
   "source": [
    "# the following steps helps to extract the data for the case study - Germany and the information only for final government expenditure\n",
    "gov_demand = exio_18.Y.DE['Final consumption expenditure by government']\n",
    "gov_demand = gov_demand.to_frame().reset_index()\n",
    "gov_demand = gov_demand.rename(columns={'Final consumption expenditure by government': 'gov_demand'})\n",
    "\n",
    "# drop all 0 values\n",
    "gov_demand = gov_demand[gov_demand.gov_demand != 0]\n",
    "\n",
    "# resetting the index. As we are working with multi-index tables, this step is necessary to make the analysis easier\n",
    "de_cba = exio_18.impacts.D_cba.DE.T.reset_index().rename(columns={'index': 'category'})\n",
    "de_cba.insert(0, 'region', 'DE')\n",
    "\n",
    "# extracting production based accounts information\n",
    "pba_without_de = exio_18.impacts.D_pba.drop('DE', axis=1, inplace=True)\n",
    "pba_without_de = exio_18.impacts.D_pba.T\n",
    "pba_without_de = pba_without_de.reset_index().rename(columns={'index': 'sector'})\n",
    "\n",
    "# merging the two tables: consumption based accounts and production based accounts\n",
    "cba_pba = pd.concat([pba_without_de, de_cba], ignore_index=True)\n",
    "\n",
    "gov_demand_pba_cba = pd.merge(cba_pba, gov_demand, on=['sector', 'region'], how='inner')\n",
    "gov_demand_pba_cba = gov_demand_pba_cba.loc[:, (gov_demand_pba_cba != 0).any(axis=0)]\n",
    "\n",
    "de_gov = exio_18.Y.DE['Final consumption expenditure by government']\n",
    "\n",
    "# access ghg emissions on F matrix and multiply by the government expenditure to get the total emissions of government expenditure per product\n",
    "ghg_emissions_de = exio_18.L.dot(exio_18.impacts.F.loc[\"GHG emissions (GWP100) | Problem oriented approach: baseline (CML, 2001) | GWP100 (IPCC, 2007)\"]).mul(de_gov, axis=0)\n",
    "ghg_emissions_de = ghg_emissions_de.to_frame().reset_index()\n",
    "\n",
    "# rename the columns to region, sector and gov_exp_ghg\n",
    "ghg_emissions_de.columns = ['region', 'sector', 'gov_exp_ghg']\n",
    "\n",
    "# drop all the sectors with zero emissions\n",
    "ghg_emissions_de = ghg_emissions_de[ghg_emissions_de['gov_exp_ghg'] != 0]\n",
    "\n",
    "gov_demand_pba_cba_ghg = pd.merge(gov_demand_pba_cba, ghg_emissions_de, on=['sector', 'region'], how='inner')\n",
    "\n",
    "# add the satellite account to the analysis\n",
    "de_cba_satellite = exio_18.satellite.D_cba.DE.T.reset_index().rename(columns={'index': 'category'})\n",
    "de_cba_satellite.insert(0, 'region', 'DE')\n",
    "\n",
    "# dropping the DE column from the satellite account not to have duplicated columns\n",
    "exio_18.satellite.D_pba.drop('DE', axis=1, inplace=True)\n",
    "pba_without_de_satellite = exio_18.satellite.D_pba.T.reset_index().rename(columns={'index': 'category'})\n",
    "\n",
    "# merging the two tables: consumption based accounts and production based accounts: including production in Germany that was then purchased by the government\n",
    "cba_pba_satellite = pd.concat([pba_without_de_satellite, de_cba_satellite], ignore_index=True)\n",
    "\n",
    "# final merge of the tables for 2018\n",
    "de_gov_all_18 = pd.merge(cba_pba_satellite, gov_demand_pba_cba_ghg, on=['sector', 'region'], how='inner') \n",
    "de_gov_all_18.shape"
   ]
  },
  {
   "cell_type": "code",
   "execution_count": 26,
   "metadata": {},
   "outputs": [],
   "source": [
    "de_gov_all_18.to_csv('/Users/gresasmolica/Desktop/Gresa Smolica/Hertie - MDS/Master_thesis/de_gov_all_18.csv', index=False)"
   ]
  },
  {
   "cell_type": "markdown",
   "metadata": {},
   "source": [
    "# Read 2017 data"
   ]
  },
  {
   "cell_type": "markdown",
   "metadata": {},
   "source": [
    "### The same steps are repeated for the following datasets"
   ]
  },
  {
   "cell_type": "code",
   "execution_count": 27,
   "metadata": {},
   "outputs": [
    {
     "name": "stderr",
     "output_type": "stream",
     "text": [
      "/opt/homebrew/lib/python3.10/site-packages/pymrio/core/mriosystem.py:890: FutureWarning: DataFrame.groupby with axis=1 is deprecated. Do `frame.T.groupby(...)` without axis instead.\n",
      "  Y_agg = Y.groupby(level=\"region\", axis=1, sort=False).sum()\n",
      "/opt/homebrew/lib/python3.10/site-packages/pymrio/core/mriosystem.py:935: FutureWarning: DataFrame.groupby with axis=1 is deprecated. Do `frame.T.groupby(...)` without axis instead.\n",
      "  F_Y_agg = self.F_Y.groupby(level=\"region\", axis=1, sort=False).sum()\n",
      "/opt/homebrew/lib/python3.10/site-packages/pymrio/core/mriosystem.py:890: FutureWarning: DataFrame.groupby with axis=1 is deprecated. Do `frame.T.groupby(...)` without axis instead.\n",
      "  Y_agg = Y.groupby(level=\"region\", axis=1, sort=False).sum()\n",
      "/opt/homebrew/lib/python3.10/site-packages/pymrio/core/mriosystem.py:935: FutureWarning: DataFrame.groupby with axis=1 is deprecated. Do `frame.T.groupby(...)` without axis instead.\n",
      "  F_Y_agg = self.F_Y.groupby(level=\"region\", axis=1, sort=False).sum()\n"
     ]
    },
    {
     "data": {
      "text/plain": [
       "<pymrio.core.mriosystem.IOSystem at 0x3257dcfa0>"
      ]
     },
     "execution_count": 27,
     "metadata": {},
     "output_type": "execute_result"
    }
   ],
   "source": [
    "exio_17 = pymrio.parse_exiobase3('/Users/gresasmolica/Extracted_Data/IOT_2017_pxp')\n",
    "exio_17.calc_all()"
   ]
  },
  {
   "cell_type": "code",
   "execution_count": 28,
   "metadata": {},
   "outputs": [
    {
     "name": "stderr",
     "output_type": "stream",
     "text": [
      "/var/folders/38/sb94bl795bv7klhlb8l7pj_00000gn/T/ipykernel_94251/3369811827.py:14: PerformanceWarning: dropping on a non-lexsorted multi-index without a level parameter may impact performance.\n",
      "  pba_without_de = exio_17.impacts.D_pba.drop('DE', axis=1, inplace=True)\n",
      "/var/folders/38/sb94bl795bv7klhlb8l7pj_00000gn/T/ipykernel_94251/3369811827.py:43: PerformanceWarning: dropping on a non-lexsorted multi-index without a level parameter may impact performance.\n",
      "  exio_17.satellite.D_pba.drop('DE', axis=1, inplace=True)\n"
     ]
    },
    {
     "data": {
      "text/plain": [
       "(2327, 1241)"
      ]
     },
     "execution_count": 28,
     "metadata": {},
     "output_type": "execute_result"
    }
   ],
   "source": [
    "gov_demand = exio_17.Y.DE['Final consumption expenditure by government']\n",
    "gov_demand = gov_demand.to_frame().reset_index()\n",
    "gov_demand = gov_demand.rename(columns={'Final consumption expenditure by government': 'gov_demand'})\n",
    "\n",
    "\n",
    "gov_demand = gov_demand[gov_demand.gov_demand != 0]\n",
    "\n",
    "\n",
    "de_cba = exio_17.impacts.D_cba.DE.T.reset_index().rename(columns={'index': 'category'})\n",
    "de_cba.insert(0, 'region', 'DE')\n",
    "\n",
    "pba_without_de = exio_17.impacts.D_pba.drop('DE', axis=1, inplace=True)\n",
    "pba_without_de = exio_17.impacts.D_pba.T\n",
    "pba_without_de = pba_without_de.reset_index().rename(columns={'index': 'sector'})\n",
    "\n",
    "cba_pba = pd.concat([pba_without_de, de_cba], ignore_index=True)\n",
    "\n",
    "gov_demand_pba_cba = pd.merge(cba_pba, gov_demand, on=['sector', 'region'], how='inner')\n",
    "gov_demand_pba_cba = gov_demand_pba_cba.loc[:, (gov_demand_pba_cba != 0).any(axis=0)]\n",
    "\n",
    "de_gov = exio_17.Y.DE['Final consumption expenditure by government']\n",
    "\n",
    "ghg_emissions_de = exio_17.L.dot(exio_17.impacts.F.loc[\"GHG emissions (GWP100) | Problem oriented approach: baseline (CML, 2001) | GWP100 (IPCC, 2007)\"]).mul(de_gov, axis=0)\n",
    "ghg_emissions_de = ghg_emissions_de.to_frame().reset_index()\n",
    "\n",
    "ghg_emissions_de.columns = ['region', 'sector', 'gov_exp_ghg']\n",
    "ghg_emissions_de = ghg_emissions_de[ghg_emissions_de['gov_exp_ghg'] != 0]\n",
    "\n",
    "gov_demand_pba_cba_ghg = pd.merge(gov_demand_pba_cba, ghg_emissions_de, on=['sector', 'region'], how='inner')\n",
    "\n",
    "de_cba_satellite = exio_17.satellite.D_cba.DE.T.reset_index().rename(columns={'index': 'category'})\n",
    "de_cba_satellite.insert(0, 'region', 'DE')\n",
    "\n",
    "exio_17.satellite.D_pba.drop('DE', axis=1, inplace=True)\n",
    "\n",
    "pba_without_de_satellite = exio_17.satellite.D_pba.T.reset_index().rename(columns={'index': 'category'})\n",
    "cba_pba_satellite = pd.concat([pba_without_de_satellite, de_cba_satellite], ignore_index=True)\n",
    "\n",
    "de_gov_all_17 = pd.merge(cba_pba_satellite, gov_demand_pba_cba_ghg, on=['sector', 'region'], how='inner') \n",
    "de_gov_all_17.shape"
   ]
  },
  {
   "cell_type": "code",
   "execution_count": 29,
   "metadata": {},
   "outputs": [],
   "source": [
    "de_gov_all_17.to_csv('/Users/gresasmolica/Desktop/Gresa Smolica/Hertie - MDS/Master_thesis/de_gov_all_17.csv', index=False)"
   ]
  },
  {
   "cell_type": "markdown",
   "metadata": {},
   "source": [
    "# Read 2016 data"
   ]
  },
  {
   "cell_type": "code",
   "execution_count": 30,
   "metadata": {},
   "outputs": [
    {
     "name": "stderr",
     "output_type": "stream",
     "text": [
      "/opt/homebrew/lib/python3.10/site-packages/pymrio/core/mriosystem.py:890: FutureWarning: DataFrame.groupby with axis=1 is deprecated. Do `frame.T.groupby(...)` without axis instead.\n",
      "  Y_agg = Y.groupby(level=\"region\", axis=1, sort=False).sum()\n",
      "/opt/homebrew/lib/python3.10/site-packages/pymrio/core/mriosystem.py:935: FutureWarning: DataFrame.groupby with axis=1 is deprecated. Do `frame.T.groupby(...)` without axis instead.\n",
      "  F_Y_agg = self.F_Y.groupby(level=\"region\", axis=1, sort=False).sum()\n",
      "/opt/homebrew/lib/python3.10/site-packages/pymrio/core/mriosystem.py:890: FutureWarning: DataFrame.groupby with axis=1 is deprecated. Do `frame.T.groupby(...)` without axis instead.\n",
      "  Y_agg = Y.groupby(level=\"region\", axis=1, sort=False).sum()\n",
      "/opt/homebrew/lib/python3.10/site-packages/pymrio/core/mriosystem.py:935: FutureWarning: DataFrame.groupby with axis=1 is deprecated. Do `frame.T.groupby(...)` without axis instead.\n",
      "  F_Y_agg = self.F_Y.groupby(level=\"region\", axis=1, sort=False).sum()\n"
     ]
    },
    {
     "data": {
      "text/plain": [
       "<pymrio.core.mriosystem.IOSystem at 0x15f675b40>"
      ]
     },
     "execution_count": 30,
     "metadata": {},
     "output_type": "execute_result"
    }
   ],
   "source": [
    "exio_16 = pymrio.parse_exiobase3('/Users/gresasmolica/Extracted_Data/IOT_2016_pxp')\n",
    "exio_16.calc_all()"
   ]
  },
  {
   "cell_type": "code",
   "execution_count": 31,
   "metadata": {},
   "outputs": [
    {
     "name": "stderr",
     "output_type": "stream",
     "text": [
      "/var/folders/38/sb94bl795bv7klhlb8l7pj_00000gn/T/ipykernel_94251/4031619153.py:14: PerformanceWarning: dropping on a non-lexsorted multi-index without a level parameter may impact performance.\n",
      "  pba_without_de = exio_16.impacts.D_pba.drop('DE', axis=1, inplace=True)\n",
      "/var/folders/38/sb94bl795bv7klhlb8l7pj_00000gn/T/ipykernel_94251/4031619153.py:43: PerformanceWarning: dropping on a non-lexsorted multi-index without a level parameter may impact performance.\n",
      "  exio_16.satellite.D_pba.drop('DE', axis=1, inplace=True)\n"
     ]
    },
    {
     "data": {
      "text/plain": [
       "(2374, 1241)"
      ]
     },
     "execution_count": 31,
     "metadata": {},
     "output_type": "execute_result"
    }
   ],
   "source": [
    "gov_demand = exio_16.Y.DE['Final consumption expenditure by government']\n",
    "gov_demand = gov_demand.to_frame().reset_index()\n",
    "gov_demand = gov_demand.rename(columns={'Final consumption expenditure by government': 'gov_demand'})\n",
    "\n",
    "gov_demand = gov_demand[gov_demand.gov_demand != 0]\n",
    "\n",
    "de_cba = exio_16.impacts.D_cba.DE.T.reset_index().rename(columns={'index': 'category'})\n",
    "de_cba.insert(0, 'region', 'DE')\n",
    "\n",
    "pba_without_de = exio_16.impacts.D_pba.drop('DE', axis=1, inplace=True)\n",
    "pba_without_de = exio_16.impacts.D_pba.T\n",
    "pba_without_de = pba_without_de.reset_index().rename(columns={'index': 'sector'})\n",
    "\n",
    "cba_pba = pd.concat([pba_without_de, de_cba], ignore_index=True)\n",
    "\n",
    "gov_demand_pba_cba = pd.merge(cba_pba, gov_demand, on=['sector', 'region'], how='inner')\n",
    "gov_demand_pba_cba = gov_demand_pba_cba.loc[:, (gov_demand_pba_cba != 0).any(axis=0)]\n",
    "\n",
    "de_gov = exio_16.Y.DE['Final consumption expenditure by government']\n",
    "\n",
    "ghg_emissions_de = exio_16.L.dot(exio_16.impacts.F.loc[\"GHG emissions (GWP100) | Problem oriented approach: baseline (CML, 2001) | GWP100 (IPCC, 2007)\"]).mul(de_gov, axis=0)\n",
    "ghg_emissions_de = ghg_emissions_de.to_frame().reset_index()\n",
    "\n",
    "ghg_emissions_de.columns = ['region', 'sector', 'gov_exp_ghg']\n",
    "\n",
    "ghg_emissions_de = ghg_emissions_de[ghg_emissions_de['gov_exp_ghg'] != 0]\n",
    "\n",
    "gov_demand_pba_cba_ghg = pd.merge(gov_demand_pba_cba, ghg_emissions_de, on=['sector', 'region'], how='inner')\n",
    "\n",
    "de_cba_satellite = exio_16.satellite.D_cba.DE.T.reset_index().rename(columns={'index': 'category'})\n",
    "de_cba_satellite.insert(0, 'region', 'DE')\n",
    "\n",
    "exio_16.satellite.D_pba.drop('DE', axis=1, inplace=True)\n",
    "\n",
    "pba_without_de_satellite = exio_16.satellite.D_pba.T.reset_index().rename(columns={'index': 'category'})\n",
    "cba_pba_satellite = pd.concat([pba_without_de_satellite, de_cba_satellite], ignore_index=True)\n",
    "\n",
    "de_gov_all_16 = pd.merge(cba_pba_satellite, gov_demand_pba_cba_ghg, on=['sector', 'region'], how='inner') \n",
    "de_gov_all_16.shape"
   ]
  },
  {
   "cell_type": "code",
   "execution_count": 32,
   "metadata": {},
   "outputs": [],
   "source": [
    "de_gov_all_16.to_csv('/Users/gresasmolica/Desktop/Gresa Smolica/Hertie - MDS/Master_thesis/de_gov_all_16.csv', index=False)"
   ]
  },
  {
   "cell_type": "markdown",
   "metadata": {},
   "source": [
    "## Parsing 2015 data"
   ]
  },
  {
   "cell_type": "code",
   "execution_count": 33,
   "metadata": {},
   "outputs": [
    {
     "name": "stderr",
     "output_type": "stream",
     "text": [
      "/opt/homebrew/lib/python3.10/site-packages/pymrio/core/mriosystem.py:890: FutureWarning: DataFrame.groupby with axis=1 is deprecated. Do `frame.T.groupby(...)` without axis instead.\n",
      "  Y_agg = Y.groupby(level=\"region\", axis=1, sort=False).sum()\n",
      "/opt/homebrew/lib/python3.10/site-packages/pymrio/core/mriosystem.py:935: FutureWarning: DataFrame.groupby with axis=1 is deprecated. Do `frame.T.groupby(...)` without axis instead.\n",
      "  F_Y_agg = self.F_Y.groupby(level=\"region\", axis=1, sort=False).sum()\n",
      "/opt/homebrew/lib/python3.10/site-packages/pymrio/core/mriosystem.py:890: FutureWarning: DataFrame.groupby with axis=1 is deprecated. Do `frame.T.groupby(...)` without axis instead.\n",
      "  Y_agg = Y.groupby(level=\"region\", axis=1, sort=False).sum()\n",
      "/opt/homebrew/lib/python3.10/site-packages/pymrio/core/mriosystem.py:935: FutureWarning: DataFrame.groupby with axis=1 is deprecated. Do `frame.T.groupby(...)` without axis instead.\n",
      "  F_Y_agg = self.F_Y.groupby(level=\"region\", axis=1, sort=False).sum()\n"
     ]
    },
    {
     "data": {
      "text/plain": [
       "<pymrio.core.mriosystem.IOSystem at 0x32576cf10>"
      ]
     },
     "execution_count": 33,
     "metadata": {},
     "output_type": "execute_result"
    }
   ],
   "source": [
    "exio_15 = pymrio.parse_exiobase3('/Users/gresasmolica/Extracted_Data/IOT_2015_pxp')\n",
    "exio_15.calc_all()"
   ]
  },
  {
   "cell_type": "code",
   "execution_count": 34,
   "metadata": {},
   "outputs": [
    {
     "name": "stderr",
     "output_type": "stream",
     "text": [
      "/var/folders/38/sb94bl795bv7klhlb8l7pj_00000gn/T/ipykernel_94251/2002768507.py:14: PerformanceWarning: dropping on a non-lexsorted multi-index without a level parameter may impact performance.\n",
      "  pba_without_de = exio_15.impacts.D_pba.drop('DE', axis=1, inplace=True)\n",
      "/var/folders/38/sb94bl795bv7klhlb8l7pj_00000gn/T/ipykernel_94251/2002768507.py:43: PerformanceWarning: dropping on a non-lexsorted multi-index without a level parameter may impact performance.\n",
      "  exio_15.satellite.D_pba.drop('DE', axis=1, inplace=True)\n"
     ]
    },
    {
     "data": {
      "text/plain": [
       "(2158, 1241)"
      ]
     },
     "execution_count": 34,
     "metadata": {},
     "output_type": "execute_result"
    }
   ],
   "source": [
    "gov_demand = exio_15.Y.DE['Final consumption expenditure by government']\n",
    "gov_demand = gov_demand.to_frame().reset_index()\n",
    "gov_demand = gov_demand.rename(columns={'Final consumption expenditure by government': 'gov_demand'})\n",
    "\n",
    "gov_demand = gov_demand[gov_demand.gov_demand != 0]\n",
    "\n",
    "de_cba = exio_15.impacts.D_cba.DE.T.reset_index().rename(columns={'index': 'category'})\n",
    "de_cba.insert(0, 'region', 'DE')\n",
    "\n",
    "pba_without_de = exio_15.impacts.D_pba.drop('DE', axis=1, inplace=True)\n",
    "pba_without_de = exio_15.impacts.D_pba.T\n",
    "pba_without_de = pba_without_de.reset_index().rename(columns={'index': 'sector'})\n",
    "\n",
    "cba_pba = pd.concat([pba_without_de, de_cba], ignore_index=True)\n",
    "\n",
    "gov_demand_pba_cba = pd.merge(cba_pba, gov_demand, on=['sector', 'region'], how='inner')\n",
    "gov_demand_pba_cba = gov_demand_pba_cba.loc[:, (gov_demand_pba_cba != 0).any(axis=0)]\n",
    "\n",
    "de_gov = exio_15.Y.DE['Final consumption expenditure by government']\n",
    "\n",
    "ghg_emissions_de = exio_15.L.dot(exio_15.impacts.F.loc[\"GHG emissions (GWP100) | Problem oriented approach: baseline (CML, 2001) | GWP100 (IPCC, 2007)\"]).mul(de_gov, axis=0)\n",
    "ghg_emissions_de = ghg_emissions_de.to_frame().reset_index()\n",
    "\n",
    "ghg_emissions_de.columns = ['region', 'sector', 'gov_exp_ghg']\n",
    "\n",
    "ghg_emissions_de = ghg_emissions_de[ghg_emissions_de['gov_exp_ghg'] != 0]\n",
    "\n",
    "gov_demand_pba_cba_ghg = pd.merge(gov_demand_pba_cba, ghg_emissions_de, on=['sector', 'region'], how='inner')\n",
    "\n",
    "de_cba_satellite = exio_15.satellite.D_cba.DE.T.reset_index().rename(columns={'index': 'category'})\n",
    "de_cba_satellite.insert(0, 'region', 'DE')\n",
    "\n",
    "exio_15.satellite.D_pba.drop('DE', axis=1, inplace=True)\n",
    "pba_without_de_satellite = exio_15.satellite.D_pba.T.reset_index().rename(columns={'index': 'category'})\n",
    "cba_pba_satellite = pd.concat([pba_without_de_satellite, de_cba_satellite], ignore_index=True)\n",
    "\n",
    "de_gov_all_15 = pd.merge(cba_pba_satellite, gov_demand_pba_cba_ghg, on=['sector', 'region'], how='inner') \n",
    "de_gov_all_15.shape"
   ]
  },
  {
   "cell_type": "code",
   "execution_count": 35,
   "metadata": {},
   "outputs": [],
   "source": [
    "de_gov_all_15.to_csv('/Users/gresasmolica/Desktop/Gresa Smolica/Hertie - MDS/Master_thesis/de_gov_all_15.csv', index=False)"
   ]
  },
  {
   "cell_type": "markdown",
   "metadata": {},
   "source": [
    "# Parsing 2014 data"
   ]
  },
  {
   "cell_type": "code",
   "execution_count": 2,
   "metadata": {},
   "outputs": [
    {
     "name": "stderr",
     "output_type": "stream",
     "text": [
      "/opt/homebrew/lib/python3.10/site-packages/pymrio/core/mriosystem.py:890: FutureWarning: DataFrame.groupby with axis=1 is deprecated. Do `frame.T.groupby(...)` without axis instead.\n",
      "  Y_agg = Y.groupby(level=\"region\", axis=1, sort=False).sum()\n",
      "/opt/homebrew/lib/python3.10/site-packages/pymrio/core/mriosystem.py:935: FutureWarning: DataFrame.groupby with axis=1 is deprecated. Do `frame.T.groupby(...)` without axis instead.\n",
      "  F_Y_agg = self.F_Y.groupby(level=\"region\", axis=1, sort=False).sum()\n",
      "/opt/homebrew/lib/python3.10/site-packages/pymrio/core/mriosystem.py:890: FutureWarning: DataFrame.groupby with axis=1 is deprecated. Do `frame.T.groupby(...)` without axis instead.\n",
      "  Y_agg = Y.groupby(level=\"region\", axis=1, sort=False).sum()\n",
      "/opt/homebrew/lib/python3.10/site-packages/pymrio/core/mriosystem.py:935: FutureWarning: DataFrame.groupby with axis=1 is deprecated. Do `frame.T.groupby(...)` without axis instead.\n",
      "  F_Y_agg = self.F_Y.groupby(level=\"region\", axis=1, sort=False).sum()\n"
     ]
    },
    {
     "data": {
      "text/plain": [
       "<pymrio.core.mriosystem.IOSystem at 0x107c6fdf0>"
      ]
     },
     "execution_count": 2,
     "metadata": {},
     "output_type": "execute_result"
    }
   ],
   "source": [
    "exio_14 = pymrio.parse_exiobase3('/Users/gresasmolica/Extracted_Data/IOT_2014_pxp')\n",
    "exio_14.calc_all()"
   ]
  },
  {
   "cell_type": "code",
   "execution_count": 3,
   "metadata": {},
   "outputs": [
    {
     "name": "stderr",
     "output_type": "stream",
     "text": [
      "/var/folders/38/sb94bl795bv7klhlb8l7pj_00000gn/T/ipykernel_94251/1575378226.py:14: PerformanceWarning: dropping on a non-lexsorted multi-index without a level parameter may impact performance.\n",
      "  pba_without_de = exio_14.impacts.D_pba.drop('DE', axis=1, inplace=True)\n",
      "/var/folders/38/sb94bl795bv7klhlb8l7pj_00000gn/T/ipykernel_94251/1575378226.py:43: PerformanceWarning: dropping on a non-lexsorted multi-index without a level parameter may impact performance.\n",
      "  exio_14.satellite.D_pba.drop('DE', axis=1, inplace=True)\n"
     ]
    },
    {
     "data": {
      "text/plain": [
       "(2353, 1241)"
      ]
     },
     "execution_count": 3,
     "metadata": {},
     "output_type": "execute_result"
    }
   ],
   "source": [
    "gov_demand = exio_14.Y.DE['Final consumption expenditure by government']\n",
    "gov_demand = gov_demand.to_frame().reset_index()\n",
    "gov_demand = gov_demand.rename(columns={'Final consumption expenditure by government': 'gov_demand'})\n",
    "\n",
    "gov_demand = gov_demand[gov_demand.gov_demand != 0]\n",
    "\n",
    "de_cba = exio_14.impacts.D_cba.DE.T.reset_index().rename(columns={'index': 'category'})\n",
    "de_cba.insert(0, 'region', 'DE')\n",
    "\n",
    "pba_without_de = exio_14.impacts.D_pba.drop('DE', axis=1, inplace=True)\n",
    "pba_without_de = exio_14.impacts.D_pba.T\n",
    "pba_without_de = pba_without_de.reset_index().rename(columns={'index': 'sector'})\n",
    "\n",
    "cba_pba = pd.concat([pba_without_de, de_cba], ignore_index=True)\n",
    "\n",
    "gov_demand_pba_cba = pd.merge(cba_pba, gov_demand, on=['sector', 'region'], how='inner')\n",
    "gov_demand_pba_cba = gov_demand_pba_cba.loc[:, (gov_demand_pba_cba != 0).any(axis=0)]\n",
    "\n",
    "de_gov = exio_14.Y.DE['Final consumption expenditure by government']\n",
    "\n",
    "ghg_emissions_de = exio_14.L.dot(exio_14.impacts.F.loc[\"GHG emissions (GWP100) | Problem oriented approach: baseline (CML, 2001) | GWP100 (IPCC, 2007)\"]).mul(de_gov, axis=0)\n",
    "ghg_emissions_de = ghg_emissions_de.to_frame().reset_index()\n",
    "\n",
    "ghg_emissions_de.columns = ['region', 'sector', 'gov_exp_ghg']\n",
    "ghg_emissions_de = ghg_emissions_de[ghg_emissions_de['gov_exp_ghg'] != 0]\n",
    "\n",
    "gov_demand_pba_cba_ghg = pd.merge(gov_demand_pba_cba, ghg_emissions_de, on=['sector', 'region'], how='inner')\n",
    "\n",
    "de_cba_satellite = exio_14.satellite.D_cba.DE.T.reset_index().rename(columns={'index': 'category'})\n",
    "de_cba_satellite.insert(0, 'region', 'DE')\n",
    "\n",
    "exio_14.satellite.D_pba.drop('DE', axis=1, inplace=True)\n",
    "\n",
    "pba_without_de_satellite = exio_14.satellite.D_pba.T.reset_index().rename(columns={'index': 'category'})\n",
    "cba_pba_satellite = pd.concat([pba_without_de_satellite, de_cba_satellite], ignore_index=True)\n",
    "\n",
    "de_gov_all_14 = pd.merge(cba_pba_satellite, gov_demand_pba_cba_ghg, on=['sector', 'region'], how='inner') \n",
    "de_gov_all_14.shape"
   ]
  },
  {
   "cell_type": "code",
   "execution_count": 4,
   "metadata": {},
   "outputs": [],
   "source": [
    "de_gov_all_14.to_csv('/Users/gresasmolica/Desktop/Gresa Smolica/Hertie - MDS/Master_thesis/de_gov_all_14.csv', index=False)"
   ]
  },
  {
   "cell_type": "markdown",
   "metadata": {},
   "source": [
    "# Parsing 2013 data"
   ]
  },
  {
   "cell_type": "code",
   "execution_count": 5,
   "metadata": {},
   "outputs": [
    {
     "name": "stderr",
     "output_type": "stream",
     "text": [
      "/opt/homebrew/lib/python3.10/site-packages/pymrio/core/mriosystem.py:890: FutureWarning: DataFrame.groupby with axis=1 is deprecated. Do `frame.T.groupby(...)` without axis instead.\n",
      "  Y_agg = Y.groupby(level=\"region\", axis=1, sort=False).sum()\n",
      "/opt/homebrew/lib/python3.10/site-packages/pymrio/core/mriosystem.py:935: FutureWarning: DataFrame.groupby with axis=1 is deprecated. Do `frame.T.groupby(...)` without axis instead.\n",
      "  F_Y_agg = self.F_Y.groupby(level=\"region\", axis=1, sort=False).sum()\n",
      "/opt/homebrew/lib/python3.10/site-packages/pymrio/core/mriosystem.py:890: FutureWarning: DataFrame.groupby with axis=1 is deprecated. Do `frame.T.groupby(...)` without axis instead.\n",
      "  Y_agg = Y.groupby(level=\"region\", axis=1, sort=False).sum()\n",
      "/opt/homebrew/lib/python3.10/site-packages/pymrio/core/mriosystem.py:935: FutureWarning: DataFrame.groupby with axis=1 is deprecated. Do `frame.T.groupby(...)` without axis instead.\n",
      "  F_Y_agg = self.F_Y.groupby(level=\"region\", axis=1, sort=False).sum()\n"
     ]
    },
    {
     "data": {
      "text/plain": [
       "<pymrio.core.mriosystem.IOSystem at 0x1579f3310>"
      ]
     },
     "execution_count": 5,
     "metadata": {},
     "output_type": "execute_result"
    }
   ],
   "source": [
    "exio_13 = pymrio.parse_exiobase3('/Users/gresasmolica/Extracted_Data/IOT_2013_pxp')\n",
    "exio_13.calc_all()"
   ]
  },
  {
   "cell_type": "code",
   "execution_count": 6,
   "metadata": {},
   "outputs": [
    {
     "name": "stderr",
     "output_type": "stream",
     "text": [
      "/var/folders/38/sb94bl795bv7klhlb8l7pj_00000gn/T/ipykernel_94251/754253248.py:14: PerformanceWarning: dropping on a non-lexsorted multi-index without a level parameter may impact performance.\n",
      "  pba_without_de = exio_13.impacts.D_pba.drop('DE', axis=1, inplace=True)\n",
      "/var/folders/38/sb94bl795bv7klhlb8l7pj_00000gn/T/ipykernel_94251/754253248.py:43: PerformanceWarning: dropping on a non-lexsorted multi-index without a level parameter may impact performance.\n",
      "  exio_13.satellite.D_pba.drop('DE', axis=1, inplace=True)\n"
     ]
    },
    {
     "data": {
      "text/plain": [
       "(2182, 1241)"
      ]
     },
     "execution_count": 6,
     "metadata": {},
     "output_type": "execute_result"
    }
   ],
   "source": [
    "gov_demand = exio_13.Y.DE['Final consumption expenditure by government']\n",
    "gov_demand = gov_demand.to_frame().reset_index()\n",
    "gov_demand = gov_demand.rename(columns={'Final consumption expenditure by government': 'gov_demand'})\n",
    "\n",
    "gov_demand = gov_demand[gov_demand.gov_demand != 0]\n",
    "\n",
    "de_cba = exio_13.impacts.D_cba.DE.T.reset_index().rename(columns={'index': 'category'})\n",
    "de_cba.insert(0, 'region', 'DE')\n",
    "\n",
    "pba_without_de = exio_13.impacts.D_pba.drop('DE', axis=1, inplace=True)\n",
    "pba_without_de = exio_13.impacts.D_pba.T\n",
    "pba_without_de = pba_without_de.reset_index().rename(columns={'index': 'sector'})\n",
    "\n",
    "cba_pba = pd.concat([pba_without_de, de_cba], ignore_index=True)\n",
    "\n",
    "gov_demand_pba_cba = pd.merge(cba_pba, gov_demand, on=['sector', 'region'], how='inner')\n",
    "gov_demand_pba_cba = gov_demand_pba_cba.loc[:, (gov_demand_pba_cba != 0).any(axis=0)]\n",
    "\n",
    "de_gov = exio_13.Y.DE['Final consumption expenditure by government']\n",
    "\n",
    "ghg_emissions_de = exio_13.L.dot(exio_13.impacts.F.loc[\"GHG emissions (GWP100) | Problem oriented approach: baseline (CML, 2001) | GWP100 (IPCC, 2007)\"]).mul(de_gov, axis=0)\n",
    "ghg_emissions_de = ghg_emissions_de.to_frame().reset_index()\n",
    "\n",
    "ghg_emissions_de.columns = ['region', 'sector', 'gov_exp_ghg']\n",
    "ghg_emissions_de = ghg_emissions_de[ghg_emissions_de['gov_exp_ghg'] != 0]\n",
    "\n",
    "gov_demand_pba_cba_ghg = pd.merge(gov_demand_pba_cba, ghg_emissions_de, on=['sector', 'region'], how='inner')\n",
    "\n",
    "de_cba_satellite = exio_13.satellite.D_cba.DE.T.reset_index().rename(columns={'index': 'category'})\n",
    "de_cba_satellite.insert(0, 'region', 'DE')\n",
    "\n",
    "exio_13.satellite.D_pba.drop('DE', axis=1, inplace=True)\n",
    "\n",
    "pba_without_de_satellite = exio_13.satellite.D_pba.T.reset_index().rename(columns={'index': 'category'})\n",
    "cba_pba_satellite = pd.concat([pba_without_de_satellite, de_cba_satellite], ignore_index=True)\n",
    "\n",
    "de_gov_all_13 = pd.merge(cba_pba_satellite, gov_demand_pba_cba_ghg, on=['sector', 'region'], how='inner') \n",
    "de_gov_all_13.shape"
   ]
  },
  {
   "cell_type": "code",
   "execution_count": 7,
   "metadata": {},
   "outputs": [],
   "source": [
    "de_gov_all_13.to_csv('/Users/gresasmolica/Desktop/Gresa Smolica/Hertie - MDS/Master_thesis/de_gov_all_13.csv', index=False)"
   ]
  },
  {
   "cell_type": "markdown",
   "metadata": {},
   "source": [
    "# Parsing 2012 data"
   ]
  },
  {
   "cell_type": "code",
   "execution_count": 14,
   "metadata": {},
   "outputs": [
    {
     "name": "stderr",
     "output_type": "stream",
     "text": [
      "/opt/homebrew/lib/python3.10/site-packages/pymrio/core/mriosystem.py:890: FutureWarning: DataFrame.groupby with axis=1 is deprecated. Do `frame.T.groupby(...)` without axis instead.\n",
      "  Y_agg = Y.groupby(level=\"region\", axis=1, sort=False).sum()\n",
      "/opt/homebrew/lib/python3.10/site-packages/pymrio/core/mriosystem.py:935: FutureWarning: DataFrame.groupby with axis=1 is deprecated. Do `frame.T.groupby(...)` without axis instead.\n",
      "  F_Y_agg = self.F_Y.groupby(level=\"region\", axis=1, sort=False).sum()\n",
      "/opt/homebrew/lib/python3.10/site-packages/pymrio/core/mriosystem.py:890: FutureWarning: DataFrame.groupby with axis=1 is deprecated. Do `frame.T.groupby(...)` without axis instead.\n",
      "  Y_agg = Y.groupby(level=\"region\", axis=1, sort=False).sum()\n",
      "/opt/homebrew/lib/python3.10/site-packages/pymrio/core/mriosystem.py:935: FutureWarning: DataFrame.groupby with axis=1 is deprecated. Do `frame.T.groupby(...)` without axis instead.\n",
      "  F_Y_agg = self.F_Y.groupby(level=\"region\", axis=1, sort=False).sum()\n"
     ]
    },
    {
     "data": {
      "text/plain": [
       "<pymrio.core.mriosystem.IOSystem at 0x107c6f7c0>"
      ]
     },
     "execution_count": 14,
     "metadata": {},
     "output_type": "execute_result"
    }
   ],
   "source": [
    "exio_12 = pymrio.parse_exiobase3('/Users/gresasmolica/Extracted_Data/IOT_2012_pxp')\n",
    "exio_12.calc_all()"
   ]
  },
  {
   "cell_type": "code",
   "execution_count": 15,
   "metadata": {},
   "outputs": [
    {
     "name": "stderr",
     "output_type": "stream",
     "text": [
      "/var/folders/38/sb94bl795bv7klhlb8l7pj_00000gn/T/ipykernel_94251/2508339453.py:14: PerformanceWarning: dropping on a non-lexsorted multi-index without a level parameter may impact performance.\n",
      "  pba_without_de = exio_12.impacts.D_pba.drop('DE', axis=1, inplace=True)\n",
      "/var/folders/38/sb94bl795bv7klhlb8l7pj_00000gn/T/ipykernel_94251/2508339453.py:43: PerformanceWarning: dropping on a non-lexsorted multi-index without a level parameter may impact performance.\n",
      "  exio_12.satellite.D_pba.drop('DE', axis=1, inplace=True)\n"
     ]
    },
    {
     "data": {
      "text/plain": [
       "(2360, 1241)"
      ]
     },
     "execution_count": 15,
     "metadata": {},
     "output_type": "execute_result"
    }
   ],
   "source": [
    "gov_demand = exio_12.Y.DE['Final consumption expenditure by government']\n",
    "gov_demand = gov_demand.to_frame().reset_index()\n",
    "gov_demand = gov_demand.rename(columns={'Final consumption expenditure by government': 'gov_demand'})\n",
    "\n",
    "gov_demand = gov_demand[gov_demand.gov_demand != 0]\n",
    "\n",
    "de_cba = exio_12.impacts.D_cba.DE.T.reset_index().rename(columns={'index': 'category'})\n",
    "de_cba.insert(0, 'region', 'DE')\n",
    "\n",
    "pba_without_de = exio_12.impacts.D_pba.drop('DE', axis=1, inplace=True)\n",
    "pba_without_de = exio_12.impacts.D_pba.T\n",
    "pba_without_de = pba_without_de.reset_index().rename(columns={'index': 'sector'})\n",
    "\n",
    "cba_pba = pd.concat([pba_without_de, de_cba], ignore_index=True)\n",
    "\n",
    "gov_demand_pba_cba = pd.merge(cba_pba, gov_demand, on=['sector', 'region'], how='inner')\n",
    "gov_demand_pba_cba = gov_demand_pba_cba.loc[:, (gov_demand_pba_cba != 0).any(axis=0)]\n",
    "\n",
    "de_gov = exio_12.Y.DE['Final consumption expenditure by government']\n",
    "\n",
    "ghg_emissions_de = exio_12.L.dot(exio_12.impacts.F.loc[\"GHG emissions (GWP100) | Problem oriented approach: baseline (CML, 2001) | GWP100 (IPCC, 2007)\"]).mul(de_gov, axis=0)\n",
    "ghg_emissions_de = ghg_emissions_de.to_frame().reset_index()\n",
    "\n",
    "ghg_emissions_de.columns = ['region', 'sector', 'gov_exp_ghg']\n",
    "ghg_emissions_de = ghg_emissions_de[ghg_emissions_de['gov_exp_ghg'] != 0]\n",
    "\n",
    "gov_demand_pba_cba_ghg = pd.merge(gov_demand_pba_cba, ghg_emissions_de, on=['sector', 'region'], how='inner')\n",
    "\n",
    "de_cba_satellite = exio_12.satellite.D_cba.DE.T.reset_index().rename(columns={'index': 'category'})\n",
    "de_cba_satellite.insert(0, 'region', 'DE')\n",
    "\n",
    "exio_12.satellite.D_pba.drop('DE', axis=1, inplace=True)\n",
    "\n",
    "pba_without_de_satellite = exio_12.satellite.D_pba.T.reset_index().rename(columns={'index': 'category'})\n",
    "cba_pba_satellite = pd.concat([pba_without_de_satellite, de_cba_satellite], ignore_index=True)\n",
    "\n",
    "de_gov_all_12 = pd.merge(cba_pba_satellite, gov_demand_pba_cba_ghg, on=['sector', 'region'], how='inner') \n",
    "de_gov_all_12.shape"
   ]
  },
  {
   "cell_type": "code",
   "execution_count": 16,
   "metadata": {},
   "outputs": [],
   "source": [
    "de_gov_all_12.to_csv('/Users/gresasmolica/Desktop/Gresa Smolica/Hertie - MDS/Master_thesis/de_gov_all_12.csv', index=False)"
   ]
  },
  {
   "cell_type": "markdown",
   "metadata": {},
   "source": [
    "# Parsing 2011"
   ]
  },
  {
   "cell_type": "code",
   "execution_count": 11,
   "metadata": {},
   "outputs": [
    {
     "name": "stderr",
     "output_type": "stream",
     "text": [
      "/opt/homebrew/lib/python3.10/site-packages/pymrio/core/mriosystem.py:890: FutureWarning: DataFrame.groupby with axis=1 is deprecated. Do `frame.T.groupby(...)` without axis instead.\n",
      "  Y_agg = Y.groupby(level=\"region\", axis=1, sort=False).sum()\n",
      "/opt/homebrew/lib/python3.10/site-packages/pymrio/core/mriosystem.py:935: FutureWarning: DataFrame.groupby with axis=1 is deprecated. Do `frame.T.groupby(...)` without axis instead.\n",
      "  F_Y_agg = self.F_Y.groupby(level=\"region\", axis=1, sort=False).sum()\n",
      "/opt/homebrew/lib/python3.10/site-packages/pymrio/core/mriosystem.py:890: FutureWarning: DataFrame.groupby with axis=1 is deprecated. Do `frame.T.groupby(...)` without axis instead.\n",
      "  Y_agg = Y.groupby(level=\"region\", axis=1, sort=False).sum()\n",
      "/opt/homebrew/lib/python3.10/site-packages/pymrio/core/mriosystem.py:935: FutureWarning: DataFrame.groupby with axis=1 is deprecated. Do `frame.T.groupby(...)` without axis instead.\n",
      "  F_Y_agg = self.F_Y.groupby(level=\"region\", axis=1, sort=False).sum()\n"
     ]
    },
    {
     "data": {
      "text/plain": [
       "<pymrio.core.mriosystem.IOSystem at 0x107c6f730>"
      ]
     },
     "execution_count": 11,
     "metadata": {},
     "output_type": "execute_result"
    }
   ],
   "source": [
    "exio_11 = pymrio.parse_exiobase3('/Users/gresasmolica/Extracted_Data/IOT_2011_pxp')\n",
    "exio_11.calc_all()"
   ]
  },
  {
   "cell_type": "code",
   "execution_count": 12,
   "metadata": {},
   "outputs": [
    {
     "name": "stderr",
     "output_type": "stream",
     "text": [
      "/var/folders/38/sb94bl795bv7klhlb8l7pj_00000gn/T/ipykernel_94251/1686058180.py:14: PerformanceWarning: dropping on a non-lexsorted multi-index without a level parameter may impact performance.\n",
      "  pba_without_de = exio_11.impacts.D_pba.drop('DE', axis=1, inplace=True)\n",
      "/var/folders/38/sb94bl795bv7klhlb8l7pj_00000gn/T/ipykernel_94251/1686058180.py:43: PerformanceWarning: dropping on a non-lexsorted multi-index without a level parameter may impact performance.\n",
      "  exio_11.satellite.D_pba.drop('DE', axis=1, inplace=True)\n"
     ]
    },
    {
     "data": {
      "text/plain": [
       "(2402, 1241)"
      ]
     },
     "execution_count": 12,
     "metadata": {},
     "output_type": "execute_result"
    }
   ],
   "source": [
    "gov_demand = exio_11.Y.DE['Final consumption expenditure by government']\n",
    "gov_demand = gov_demand.to_frame().reset_index()\n",
    "gov_demand = gov_demand.rename(columns={'Final consumption expenditure by government': 'gov_demand'})\n",
    "\n",
    "gov_demand = gov_demand[gov_demand.gov_demand != 0]\n",
    "\n",
    "de_cba = exio_11.impacts.D_cba.DE.T.reset_index().rename(columns={'index': 'category'})\n",
    "de_cba.insert(0, 'region', 'DE')\n",
    "\n",
    "pba_without_de = exio_11.impacts.D_pba.drop('DE', axis=1, inplace=True)\n",
    "pba_without_de = exio_11.impacts.D_pba.T\n",
    "pba_without_de = pba_without_de.reset_index().rename(columns={'index': 'sector'})\n",
    "\n",
    "cba_pba = pd.concat([pba_without_de, de_cba], ignore_index=True)\n",
    "gov_demand_pba_cba = pd.merge(cba_pba, gov_demand, on=['sector', 'region'], how='inner')\n",
    "gov_demand_pba_cba = gov_demand_pba_cba.loc[:, (gov_demand_pba_cba != 0).any(axis=0)]\n",
    "\n",
    "de_gov = exio_11.Y.DE['Final consumption expenditure by government']\n",
    "\n",
    "ghg_emissions_de = exio_11.L.dot(exio_11.impacts.F.loc[\"GHG emissions (GWP100) | Problem oriented approach: baseline (CML, 2001) | GWP100 (IPCC, 2007)\"]).mul(de_gov, axis=0)\n",
    "ghg_emissions_de = ghg_emissions_de.to_frame().reset_index()\n",
    "\n",
    "ghg_emissions_de.columns = ['region', 'sector', 'gov_exp_ghg']\n",
    "ghg_emissions_de = ghg_emissions_de[ghg_emissions_de['gov_exp_ghg'] != 0]\n",
    "\n",
    "gov_demand_pba_cba_ghg = pd.merge(gov_demand_pba_cba, ghg_emissions_de, on=['sector', 'region'], how='inner')\n",
    "\n",
    "de_cba_satellite = exio_11.satellite.D_cba.DE.T.reset_index().rename(columns={'index': 'category'})\n",
    "de_cba_satellite.insert(0, 'region', 'DE')\n",
    "\n",
    "exio_11.satellite.D_pba.drop('DE', axis=1, inplace=True)\n",
    "\n",
    "pba_without_de_satellite = exio_11.satellite.D_pba.T.reset_index().rename(columns={'index': 'category'})\n",
    "cba_pba_satellite = pd.concat([pba_without_de_satellite, de_cba_satellite], ignore_index=True)\n",
    "\n",
    "de_gov_all_11 = pd.merge(cba_pba_satellite, gov_demand_pba_cba_ghg, on=['sector', 'region'], how='inner') \n",
    "de_gov_all_11.shape"
   ]
  },
  {
   "cell_type": "code",
   "execution_count": 13,
   "metadata": {},
   "outputs": [],
   "source": [
    "de_gov_all_11.to_csv('/Users/gresasmolica/Desktop/Gresa Smolica/Hertie - MDS/Master_thesis/de_gov_all_11.csv', index=False)"
   ]
  },
  {
   "cell_type": "markdown",
   "metadata": {},
   "source": [
    "# Parsing 2010 data"
   ]
  },
  {
   "cell_type": "code",
   "execution_count": 18,
   "metadata": {},
   "outputs": [
    {
     "name": "stderr",
     "output_type": "stream",
     "text": [
      "/opt/homebrew/lib/python3.10/site-packages/pymrio/core/mriosystem.py:890: FutureWarning: DataFrame.groupby with axis=1 is deprecated. Do `frame.T.groupby(...)` without axis instead.\n",
      "  Y_agg = Y.groupby(level=\"region\", axis=1, sort=False).sum()\n",
      "/opt/homebrew/lib/python3.10/site-packages/pymrio/core/mriosystem.py:935: FutureWarning: DataFrame.groupby with axis=1 is deprecated. Do `frame.T.groupby(...)` without axis instead.\n",
      "  F_Y_agg = self.F_Y.groupby(level=\"region\", axis=1, sort=False).sum()\n",
      "/opt/homebrew/lib/python3.10/site-packages/pymrio/core/mriosystem.py:890: FutureWarning: DataFrame.groupby with axis=1 is deprecated. Do `frame.T.groupby(...)` without axis instead.\n",
      "  Y_agg = Y.groupby(level=\"region\", axis=1, sort=False).sum()\n",
      "/opt/homebrew/lib/python3.10/site-packages/pymrio/core/mriosystem.py:935: FutureWarning: DataFrame.groupby with axis=1 is deprecated. Do `frame.T.groupby(...)` without axis instead.\n",
      "  F_Y_agg = self.F_Y.groupby(level=\"region\", axis=1, sort=False).sum()\n"
     ]
    },
    {
     "data": {
      "text/plain": [
       "<pymrio.core.mriosystem.IOSystem at 0x15f6b17b0>"
      ]
     },
     "execution_count": 18,
     "metadata": {},
     "output_type": "execute_result"
    }
   ],
   "source": [
    "exio_10 = pymrio.parse_exiobase3('/Users/gresasmolica/Extracted_Data/IOT_2010_pxp')\n",
    "exio_10.calc_all()"
   ]
  },
  {
   "cell_type": "code",
   "execution_count": 19,
   "metadata": {},
   "outputs": [
    {
     "name": "stderr",
     "output_type": "stream",
     "text": [
      "/var/folders/38/sb94bl795bv7klhlb8l7pj_00000gn/T/ipykernel_94251/4189295213.py:14: PerformanceWarning: dropping on a non-lexsorted multi-index without a level parameter may impact performance.\n",
      "  pba_without_de = exio_10.impacts.D_pba.drop('DE', axis=1, inplace=True)\n",
      "/var/folders/38/sb94bl795bv7klhlb8l7pj_00000gn/T/ipykernel_94251/4189295213.py:43: PerformanceWarning: dropping on a non-lexsorted multi-index without a level parameter may impact performance.\n",
      "  exio_10.satellite.D_pba.drop('DE', axis=1, inplace=True)\n"
     ]
    },
    {
     "data": {
      "text/plain": [
       "(2333, 1241)"
      ]
     },
     "execution_count": 19,
     "metadata": {},
     "output_type": "execute_result"
    }
   ],
   "source": [
    "gov_demand = exio_10.Y.DE['Final consumption expenditure by government']\n",
    "gov_demand = gov_demand.to_frame().reset_index()\n",
    "gov_demand = gov_demand.rename(columns={'Final consumption expenditure by government': 'gov_demand'})\n",
    "\n",
    "gov_demand = gov_demand[gov_demand.gov_demand != 0]\n",
    "\n",
    "de_cba = exio_10.impacts.D_cba.DE.T.reset_index().rename(columns={'index': 'category'})\n",
    "de_cba.insert(0, 'region', 'DE')\n",
    "\n",
    "pba_without_de = exio_10.impacts.D_pba.drop('DE', axis=1, inplace=True)\n",
    "pba_without_de = exio_10.impacts.D_pba.T\n",
    "pba_without_de = pba_without_de.reset_index().rename(columns={'index': 'sector'})\n",
    "\n",
    "cba_pba = pd.concat([pba_without_de, de_cba], ignore_index=True)\n",
    "\n",
    "gov_demand_pba_cba = pd.merge(cba_pba, gov_demand, on=['sector', 'region'], how='inner')\n",
    "gov_demand_pba_cba = gov_demand_pba_cba.loc[:, (gov_demand_pba_cba != 0).any(axis=0)]\n",
    "\n",
    "de_gov = exio_10.Y.DE['Final consumption expenditure by government']\n",
    "\n",
    "ghg_emissions_de = exio_10.L.dot(exio_10.impacts.F.loc[\"GHG emissions (GWP100) | Problem oriented approach: baseline (CML, 2001) | GWP100 (IPCC, 2007)\"]).mul(de_gov, axis=0)\n",
    "ghg_emissions_de = ghg_emissions_de.to_frame().reset_index()\n",
    "\n",
    "ghg_emissions_de.columns = ['region', 'sector', 'gov_exp_ghg']\n",
    "ghg_emissions_de = ghg_emissions_de[ghg_emissions_de['gov_exp_ghg'] != 0]\n",
    "\n",
    "gov_demand_pba_cba_ghg = pd.merge(gov_demand_pba_cba, ghg_emissions_de, on=['sector', 'region'], how='inner')\n",
    "\n",
    "de_cba_satellite = exio_10.satellite.D_cba.DE.T.reset_index().rename(columns={'index': 'category'})\n",
    "de_cba_satellite.insert(0, 'region', 'DE')\n",
    "\n",
    "exio_10.satellite.D_pba.drop('DE', axis=1, inplace=True)\n",
    "\n",
    "pba_without_de_satellite = exio_10.satellite.D_pba.T.reset_index().rename(columns={'index': 'category'})\n",
    "cba_pba_satellite = pd.concat([pba_without_de_satellite, de_cba_satellite], ignore_index=True)\n",
    "\n",
    "de_gov_all_10 = pd.merge(cba_pba_satellite, gov_demand_pba_cba_ghg, on=['sector', 'region'], how='inner') \n",
    "de_gov_all_10.shape"
   ]
  },
  {
   "cell_type": "code",
   "execution_count": 20,
   "metadata": {},
   "outputs": [],
   "source": [
    "de_gov_all_10.to_csv('/Users/gresasmolica/Desktop/Gresa Smolica/Hertie - MDS/Master_thesis/de_gov_all_10.csv', index=False)"
   ]
  },
  {
   "cell_type": "markdown",
   "metadata": {},
   "source": [
    "# Bringing all the datasets together"
   ]
  },
  {
   "cell_type": "markdown",
   "metadata": {},
   "source": [
    "### Add a \"year\" column for all files"
   ]
  },
  {
   "cell_type": "code",
   "execution_count": 36,
   "metadata": {},
   "outputs": [],
   "source": [
    "de_gov_all_10['year'] = 2010\n",
    "de_gov_all_11['year'] = 2011\n",
    "de_gov_all_12['year'] = 2012\n",
    "de_gov_all_13['year'] = 2013\n",
    "de_gov_all_14['year'] = 2014\n",
    "de_gov_all_15['year'] = 2015\n",
    "de_gov_all_16['year'] = 2016\n",
    "de_gov_all_17['year'] = 2017\n",
    "de_gov_all_18['year'] = 2018\n",
    "de_gov_all_19['year'] = 2019"
   ]
  },
  {
   "cell_type": "code",
   "execution_count": 37,
   "metadata": {},
   "outputs": [],
   "source": [
    "de_gov_all = pd.concat([de_gov_all_10, de_gov_all_11, de_gov_all_12, de_gov_all_13, de_gov_all_14, de_gov_all_15, de_gov_all_16, de_gov_all_17, de_gov_all_18, de_gov_all_19], ignore_index=True)"
   ]
  },
  {
   "cell_type": "code",
   "execution_count": 39,
   "metadata": {},
   "outputs": [],
   "source": [
    "# export the data to a csv file\n",
    "de_gov_all.to_csv('/Users/gresasmolica/Desktop/Gresa Smolica/Hertie - MDS/Master_thesis/de_gov_all.csv', index=False)"
   ]
  }
 ],
 "metadata": {
  "kernelspec": {
   "display_name": "Python 3",
   "language": "python",
   "name": "python3"
  },
  "language_info": {
   "codemirror_mode": {
    "name": "ipython",
    "version": 3
   },
   "file_extension": ".py",
   "mimetype": "text/x-python",
   "name": "python",
   "nbconvert_exporter": "python",
   "pygments_lexer": "ipython3",
   "version": "3.10.13"
  }
 },
 "nbformat": 4,
 "nbformat_minor": 2
}
